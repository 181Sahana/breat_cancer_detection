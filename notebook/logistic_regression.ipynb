{
 "cells": [
  {
   "cell_type": "code",
   "execution_count": 2,
   "id": "2ec00673",
   "metadata": {},
   "outputs": [
    {
     "name": "stdout",
     "output_type": "stream",
     "text": [
      "<class 'pandas.core.frame.DataFrame'>\n",
      "RangeIndex: 301 entries, 0 to 300\n",
      "Data columns (total 9 columns):\n",
      " #   Column         Non-Null Count  Dtype  \n",
      "---  ------         --------------  -----  \n",
      " 0   Car_Name       301 non-null    object \n",
      " 1   Year           301 non-null    int64  \n",
      " 2   Selling_Price  301 non-null    float64\n",
      " 3   Present_Price  301 non-null    float64\n",
      " 4   Kms_Driven     301 non-null    int64  \n",
      " 5   Fuel_Type      301 non-null    object \n",
      " 6   Seller_Type    301 non-null    object \n",
      " 7   Transmission   301 non-null    object \n",
      " 8   Owner          301 non-null    int64  \n",
      "dtypes: float64(2), int64(3), object(4)\n",
      "memory usage: 21.3+ KB\n"
     ]
    },
    {
     "ename": "ValueError",
     "evalue": "Unknown label type: 'continuous'",
     "output_type": "error",
     "traceback": [
      "\u001b[0;31m---------------------------------------------------------------------------\u001b[0m",
      "\u001b[0;31mValueError\u001b[0m                                Traceback (most recent call last)",
      "Cell \u001b[0;32mIn[2], line 36\u001b[0m\n\u001b[1;32m     33\u001b[0m log_reg_model \u001b[39m=\u001b[39m LogisticRegression()\n\u001b[1;32m     35\u001b[0m \u001b[39m# Fitting the model to the dataset\u001b[39;00m\n\u001b[0;32m---> 36\u001b[0m log_reg_model\u001b[39m.\u001b[39;49mfit(X_train, Y_train)\n\u001b[1;32m     38\u001b[0m \u001b[39m# Prediction on Training data\u001b[39;00m\n\u001b[1;32m     39\u001b[0m training_data_prediction \u001b[39m=\u001b[39m log_reg_model\u001b[39m.\u001b[39mpredict(X_train)\n",
      "File \u001b[0;32m~/Desktop/6th sem LAB MLOPS/MLOps/car_price_detection/venv/lib/python3.9/site-packages/sklearn/linear_model/_logistic.py:1204\u001b[0m, in \u001b[0;36mLogisticRegression.fit\u001b[0;34m(self, X, y, sample_weight)\u001b[0m\n\u001b[1;32m   1194\u001b[0m     _dtype \u001b[39m=\u001b[39m [np\u001b[39m.\u001b[39mfloat64, np\u001b[39m.\u001b[39mfloat32]\n\u001b[1;32m   1196\u001b[0m X, y \u001b[39m=\u001b[39m \u001b[39mself\u001b[39m\u001b[39m.\u001b[39m_validate_data(\n\u001b[1;32m   1197\u001b[0m     X,\n\u001b[1;32m   1198\u001b[0m     y,\n\u001b[0;32m   (...)\u001b[0m\n\u001b[1;32m   1202\u001b[0m     accept_large_sparse\u001b[39m=\u001b[39msolver \u001b[39mnot\u001b[39;00m \u001b[39min\u001b[39;00m [\u001b[39m\"\u001b[39m\u001b[39mliblinear\u001b[39m\u001b[39m\"\u001b[39m, \u001b[39m\"\u001b[39m\u001b[39msag\u001b[39m\u001b[39m\"\u001b[39m, \u001b[39m\"\u001b[39m\u001b[39msaga\u001b[39m\u001b[39m\"\u001b[39m],\n\u001b[1;32m   1203\u001b[0m )\n\u001b[0;32m-> 1204\u001b[0m check_classification_targets(y)\n\u001b[1;32m   1205\u001b[0m \u001b[39mself\u001b[39m\u001b[39m.\u001b[39mclasses_ \u001b[39m=\u001b[39m np\u001b[39m.\u001b[39munique(y)\n\u001b[1;32m   1207\u001b[0m multi_class \u001b[39m=\u001b[39m _check_multi_class(\u001b[39mself\u001b[39m\u001b[39m.\u001b[39mmulti_class, solver, \u001b[39mlen\u001b[39m(\u001b[39mself\u001b[39m\u001b[39m.\u001b[39mclasses_))\n",
      "File \u001b[0;32m~/Desktop/6th sem LAB MLOPS/MLOps/car_price_detection/venv/lib/python3.9/site-packages/sklearn/utils/multiclass.py:218\u001b[0m, in \u001b[0;36mcheck_classification_targets\u001b[0;34m(y)\u001b[0m\n\u001b[1;32m    210\u001b[0m y_type \u001b[39m=\u001b[39m type_of_target(y, input_name\u001b[39m=\u001b[39m\u001b[39m\"\u001b[39m\u001b[39my\u001b[39m\u001b[39m\"\u001b[39m)\n\u001b[1;32m    211\u001b[0m \u001b[39mif\u001b[39;00m y_type \u001b[39mnot\u001b[39;00m \u001b[39min\u001b[39;00m [\n\u001b[1;32m    212\u001b[0m     \u001b[39m\"\u001b[39m\u001b[39mbinary\u001b[39m\u001b[39m\"\u001b[39m,\n\u001b[1;32m    213\u001b[0m     \u001b[39m\"\u001b[39m\u001b[39mmulticlass\u001b[39m\u001b[39m\"\u001b[39m,\n\u001b[0;32m   (...)\u001b[0m\n\u001b[1;32m    216\u001b[0m     \u001b[39m\"\u001b[39m\u001b[39mmultilabel-sequences\u001b[39m\u001b[39m\"\u001b[39m,\n\u001b[1;32m    217\u001b[0m ]:\n\u001b[0;32m--> 218\u001b[0m     \u001b[39mraise\u001b[39;00m \u001b[39mValueError\u001b[39;00m(\u001b[39m\"\u001b[39m\u001b[39mUnknown label type: \u001b[39m\u001b[39m%r\u001b[39;00m\u001b[39m\"\u001b[39m \u001b[39m%\u001b[39m y_type)\n",
      "\u001b[0;31mValueError\u001b[0m: Unknown label type: 'continuous'"
     ]
    }
   ],
   "source": [
    "import pandas as pd\n",
    "import matplotlib.pyplot as plt\n",
    "import seaborn as sns\n",
    "from sklearn.model_selection import train_test_split\n",
    "from sklearn.linear_model import LogisticRegression\n",
    "from sklearn import metrics\n",
    "\n",
    "# Loading the data\n",
    "car_data = pd.read_csv('data/cardata.csv')\n",
    "car_data.head()\n",
    "car_data.info()\n",
    "\n",
    "# Encoding Columns\n",
    "car_data.replace(\n",
    "    {'Fuel_Type': {'Petrol': 0, 'Diesel': 1, 'CNG': 2}}, inplace=True)\n",
    "car_data.replace({'Seller_Type': {'Dealer': 0, 'Individual': 1}}, inplace=True)\n",
    "car_data.replace({'Transmission': {'Manual': 0, 'Automatic': 1}}, inplace=True)\n",
    "\n",
    "# Discretize Selling_Price into two categories: low price (0) and high price (1)\n",
    "car_data['Price_Category'] = pd.cut(\n",
    "    car_data['Selling_Price'], bins=[-float('inf'), 5, float('inf')], labels=[0, 1])\n",
    "\n",
    "# corrMatrix = car_data.corr()\n",
    "# sns.heatmap(corrMatrix, annot=True, cmap=\"viridis\")\n",
    "# plt.show()\n",
    "\n",
    "X = car_data.drop(['Car_Name', 'Selling_Price'], axis=1)\n",
    "Y = car_data['Selling_Price']\n",
    "X_train, X_test, Y_train, Y_test = train_test_split(\n",
    "    X, Y, test_size=0.2, random_state=42)\n",
    "\n",
    "# Loading the logistic regression model\n",
    "log_reg_model = LogisticRegression()\n",
    "\n",
    "# Fitting the model to the dataset\n",
    "log_reg_model.fit(X_train, Y_train)\n",
    "\n",
    "# Prediction on Training data\n",
    "training_data_prediction = log_reg_model.predict(X_train)\n",
    "\n",
    "# Accuracy Score\n",
    "train_accuracy = metrics.accuracy_score(Y_train, training_data_prediction)\n",
    "print(\"Accuracy Score - Training: \", train_accuracy)\n",
    "\n",
    "Y_pred = log_reg_model.predict(X_test)\n",
    "test_accuracy = metrics.accuracy_score(Y_test, Y_pred)\n",
    "print(\"Accuracy Score - Test: \", test_accuracy)\n",
    "\n",
    "sns.regplot(Y_test, Y_pred, scatter_kws={\n",
    "            \"color\": \"green\"}, line_kws={\"color\": \"blue\"})\n"
   ]
  },
  {
   "cell_type": "code",
   "execution_count": 2,
   "id": "143883d3",
   "metadata": {},
   "outputs": [],
   "source": [
    "import pickle\n",
    "from sklearn.linear_model import LinearRegression\n",
    "\n",
    "\n",
    "# Saving the model to a file\n",
    "filename = 'log_reg_model.pkl'\n",
    "with open(filename, 'wb') as file:\n",
    "    pickle.dump(log_reg_model, file)\n"
   ]
  },
  {
   "cell_type": "code",
   "execution_count": null,
   "id": "b3a242df",
   "metadata": {},
   "outputs": [],
   "source": []
  }
 ],
 "metadata": {
  "kernelspec": {
   "display_name": "Python 3 (ipykernel)",
   "language": "python",
   "name": "python3"
  },
  "language_info": {
   "codemirror_mode": {
    "name": "ipython",
    "version": 3
   },
   "file_extension": ".py",
   "mimetype": "text/x-python",
   "name": "python",
   "nbconvert_exporter": "python",
   "pygments_lexer": "ipython3",
   "version": "3.9.13"
  }
 },
 "nbformat": 4,
 "nbformat_minor": 5
}
