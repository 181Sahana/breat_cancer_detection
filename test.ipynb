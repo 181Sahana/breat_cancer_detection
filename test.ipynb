{
 "cells": [
  {
   "cell_type": "code",
   "execution_count": 8,
   "metadata": {},
   "outputs": [],
   "source": [
    "from src.pipeline.predict_pipeline import CustomData, PredictPipeline\n",
    "import sys\n",
    "import os\n",
    "import pandas as pd\n",
    "from src.exception import CustomException\n",
    "from src.utils import load_object\n",
    "from src.components.ensemble import Ensemble\n"
   ]
  },
  {
   "cell_type": "code",
   "execution_count": 10,
   "metadata": {},
   "outputs": [],
   "source": [
    "class CustomData:\n",
    "    def __init__(self, Year, Present_Price, Kms_riven, Fuel_Type, Seller_Type, Transmission, Owner):\n",
    "        self.Year = Year\n",
    "        self.Present_Price = Present_Price\n",
    "        self.Kms_riven = Kms_riven\n",
    "        self.Fuel_Type = Fuel_Type\n",
    "        self.Seller_Type = Seller_Type\n",
    "        self.Transmission = Transmission\n",
    "        self.Owner = Owner\n",
    "\n",
    "    def get_data_as_data_frame(self):\n",
    "        try:\n",
    "            custom_data_input_dict = {\n",
    "                \"Year\": [self.Year],\n",
    "                \"Present_Price\": [self.Present_Price],\n",
    "                \"Kms_riven\": [self.Kms_riven],\n",
    "                \"Fuel_Type\": [self.Fuel_Type],\n",
    "                \"Seller_Type\": [self.Seller_Type],\n",
    "                \"Transmission\": [self.Transmission],\n",
    "                \"Owner\": [self.Owner]\n",
    "            }\n",
    "\n",
    "            return pd.DataFrame(custom_data_input_dict)\n",
    "\n",
    "        except Exception as e:\n",
    "            raise CustomException(e, sys)\n"
   ]
  },
  {
   "cell_type": "code",
   "execution_count": 11,
   "metadata": {},
   "outputs": [],
   "source": [
    "data = CustomData(2014, 5.9, 27000, \"Petrol\", \"Dealer\", \"Manual\", 0)\n",
    "# 2014,5.9,27000,\"Petrol\",\"Dealer\",\"Manual\",0\n"
   ]
  },
  {
   "cell_type": "code",
   "execution_count": 12,
   "metadata": {},
   "outputs": [
    {
     "data": {
      "text/plain": [
       "2014"
      ]
     },
     "execution_count": 12,
     "metadata": {},
     "output_type": "execute_result"
    }
   ],
   "source": [
    "data.Year\n"
   ]
  },
  {
   "cell_type": "code",
   "execution_count": 15,
   "metadata": {},
   "outputs": [],
   "source": [
    "input_data = {\n",
    "    \"Year\": 2014,\n",
    "    \"Present_Price\": 5.9,\n",
    "    \"Kms_Driven\": 27000.0,\n",
    "    \"Fuel_Type\": \"Petrol\",\n",
    "    \"Seller_Type\": \"Dealer\",\n",
    "    \"Transmission\": \"Manual\",\n",
    "    \"Owner\": 0\n",
    "}\n",
    "data = CustomData(\n",
    "    Year=int(input_data.get('Year')),\n",
    "    Present_Price=float(input_data.get('Present_Price')),\n",
    "    Kms_riven=float(input_data.get('Kms_Driven')),\n",
    "    Fuel_Type=str(input_data.get('Fuel_Type')),\n",
    "    Seller_Type=str(input_data.get('Seller_Type')),\n",
    "    Transmission=str(input_data.get('Transmission')),\n",
    "    Owner=int(input_data.get('Owner'))\n",
    ")\n"
   ]
  },
  {
   "cell_type": "code",
   "execution_count": null,
   "metadata": {},
   "outputs": [],
   "source": []
  }
 ],
 "metadata": {
  "kernelspec": {
   "display_name": "venv",
   "language": "python",
   "name": "python3"
  },
  "language_info": {
   "codemirror_mode": {
    "name": "ipython",
    "version": 3
   },
   "file_extension": ".py",
   "mimetype": "text/x-python",
   "name": "python",
   "nbconvert_exporter": "python",
   "pygments_lexer": "ipython3",
   "version": "3.9.13"
  },
  "orig_nbformat": 4
 },
 "nbformat": 4,
 "nbformat_minor": 2
}
